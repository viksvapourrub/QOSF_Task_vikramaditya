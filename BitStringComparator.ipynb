{
 "cells": [
  {
   "cell_type": "markdown",
   "id": "e68b1795-b6f2-4630-b9ea-3f76a1e407a4",
   "metadata": {},
   "source": [
    "Q1. Given a positive integer “k” and a list of integer numbers, look for the numbers within the list, that are less than k. Consider an appropriate number of qubits and explain why your proposal is valid for all kinds of numbers in case."
   ]
  },
  {
   "cell_type": "code",
   "execution_count": 86,
   "id": "db127cad-9a64-4e00-83f0-2a9400d1a101",
   "metadata": {},
   "outputs": [
    {
     "name": "stdout",
     "output_type": "stream",
     "text": [
      "[4, 1, 5]\n"
     ]
    }
   ],
   "source": [
    "from qiskit import QuantumRegister, ClassicalRegister, transpile, QuantumCircuit\n",
    "from qiskit.providers import basic_provider\n",
    "\n",
    "#Defining a bit comparator circuit\n",
    "def bit_compare():\n",
    "    qr = QuantumRegister(2, \"bits\")\n",
    "    aux = QuantumRegister(2, \"aux\")\n",
    "    \n",
    "    qc = QuantumCircuit(qr, aux)\n",
    "    qc.x(qr[1])\n",
    "    qc.mcx(qr, aux[0])\n",
    "    qc.x(qr[0])\n",
    "    qc.x(qr[1])\n",
    "    qc.mcx(qr, aux[1])\n",
    "    qc.x(qr[0])\n",
    "    \n",
    "    return qc\n",
    "\n",
    "#Defining the circuit for bit comparison\n",
    "def less_than_k(k,lst):\n",
    "    \n",
    "    m = len(bin(max(k,max(lst)))[2:]) #Getting the largest number in list to get number of qubits needed to draw the circuit\n",
    "    \n",
    "    flist=[] #To store numbers less than k\n",
    "    \n",
    "    for a in range(len(lst)):\n",
    "        num1_b=bin(k)[2:].zfill(m)\n",
    "        num2_b=bin(lst[a])[2:].zfill(m)\n",
    "        q=QuantumRegister(m*2,'q')\n",
    "        c=ClassicalRegister(m+2,'c')\n",
    "        qc=QuantumCircuit(q,c)\n",
    "        for i in range(m):\n",
    "            if num1_b[i] == '1':\n",
    "                qc.x(2*i)\n",
    "            if num2_b[i] == '1':\n",
    "                qc.x(2*i+1)\n",
    "            qc.cx(2*i,2*i+1)\n",
    "            qc.measure(q[2*i+1],c[i])\n",
    "            qc.barrier()\n",
    "        backend = basic_provider.BasicProvider().get_backend('basic_simulator')\n",
    "        # Do the simulation, returning the result\n",
    "        res = transpile(qc,backend)\n",
    "        job=backend.run(res)\n",
    "        results=job.result()\n",
    "        #get the probability distribution\n",
    "        counts = results.get_counts()\n",
    "        lst1=str(list(counts.keys())[0])[::-1]\n",
    "\n",
    "        q1=QuantumRegister(4,'q1')\n",
    "        c1=ClassicalRegister(2,'c1')\n",
    "        qcf=QuantumCircuit(q1,c1)\n",
    "        for i,j in enumerate(lst1):\n",
    "            if j == '1':\n",
    "                if num1_b[i] == '1':\n",
    "                    qcf.x(0)\n",
    "                if num2_b[i] == '1':\n",
    "                    qcf.x(1)\n",
    "                qcf.append(bit_compare(),[q1[0],q1[1],q1[2],q1[3]])\n",
    "                break\n",
    "        qcf.measure([q1[2],q1[3]],[c1[0],c1[1]])\n",
    "    # Do the simulation, returning the result\n",
    "        res1 = transpile(qcf,backend)\n",
    "        job1=backend.run(res1)\n",
    "        results1=job1.result()\n",
    "    # get the probability distribution\n",
    "        counts1 = results1.get_counts()\n",
    "        final=str(list(counts1.keys())[0])\n",
    "        if final == '01':\n",
    "            flist.append(lst[a])\n",
    "    return flist\n",
    "\n",
    "print(less_than_k(6,[8,9,7,4,1,5]))"
   ]
  },
  {
   "cell_type": "markdown",
   "id": "e82fa247-4a92-47e8-9b54-7805afcef247",
   "metadata": {},
   "source": [
    "Source: Oliveira, David & Ramos, Rubens. (2007). Quantum bit string comparator: Circuits and applications. Quantum Computers and Computing. 7."
   ]
  },
  {
   "cell_type": "code",
   "execution_count": 88,
   "id": "98eb49bb-dfe9-4a6a-97c5-2951a2594d39",
   "metadata": {},
   "outputs": [
    {
     "name": "stdout",
     "output_type": "stream",
     "text": [
      "                  ┌───┐     ┌───┐\n",
      "bits_0: ───────■──┤ X ├──■──┤ X ├\n",
      "        ┌───┐  │  ├───┤  │  └───┘\n",
      "bits_1: ┤ X ├──■──┤ X ├──■───────\n",
      "        └───┘┌─┴─┐└───┘  │       \n",
      " aux_0: ─────┤ X ├───────┼───────\n",
      "             └───┘     ┌─┴─┐     \n",
      " aux_1: ───────────────┤ X ├─────\n",
      "                       └───┘     \n"
     ]
    }
   ],
   "source": [
    "#Quantum Circuit for the bit comparator is shown below\n",
    "print(bit_compare())"
   ]
  },
  {
   "cell_type": "code",
   "execution_count": 94,
   "id": "d5555257-0883-4a19-bbaf-aea3a54a70cc",
   "metadata": {},
   "outputs": [
    {
     "name": "stdout",
     "output_type": "stream",
     "text": [
      "     ┌───┐         ░               ░ \n",
      "q_0: ┤ X ├──■──────░───────────────░─\n",
      "     ├───┤┌─┴─┐┌─┐ ░               ░ \n",
      "q_1: ┤ X ├┤ X ├┤M├─░───────────────░─\n",
      "     └───┘└───┘└╥┘ ░               ░ \n",
      "q_2: ───────────╫──░────────■──────░─\n",
      "                ║  ░ ┌───┐┌─┴─┐┌─┐ ░ \n",
      "q_3: ───────────╫──░─┤ X ├┤ X ├┤M├─░─\n",
      "                ║  ░ └───┘└───┘└╥┘ ░ \n",
      "c: 4/═══════════╩═══════════════╩════\n",
      "                0               1    \n"
     ]
    }
   ],
   "source": [
    "#Circuit for comparison of each number is drawn as such\n",
    "def circuit(num1,num2):\n",
    "    m = len(bin(max(num1,num2))[2:])\n",
    "    num1_b=bin(num1)[2:].zfill(m)\n",
    "    num2_b=bin(num2)[2:].zfill(m)\n",
    "    q=QuantumRegister(m*2,'q')\n",
    "    c=ClassicalRegister(m+2,'c')\n",
    "    qc=QuantumCircuit(q,c)\n",
    "    for i in range(m):\n",
    "        if num1_b[i] == '1':\n",
    "            qc.x(2*i)\n",
    "        if num2_b[i] == '1':\n",
    "            qc.x(2*i+1)\n",
    "        qc.cx(2*i,2*i+1)\n",
    "        qc.measure(q[2*i+1],c[i])\n",
    "        qc.barrier()\n",
    "    return qc\n",
    "\n",
    "print(circuit(2,3))"
   ]
  },
  {
   "cell_type": "markdown",
   "id": "166850b2-3413-49bf-ab7c-8801cba6fed3",
   "metadata": {},
   "source": [
    "The appropriate number of qubits required are number of bits needed to represent the bigegst number out of all given numbers plus 4 since we need 4 more qubits to apply the bit comparator circuit\n",
    "This algorithm might seem like it is worse than its classical counterpart but it should be noted that this circuit uses less resources since we make use of CNOT gate as an XOR gate and deliver the result using only the bit where the XOR gate returns the value 1 meaning the two bits at the same position have different values so we only need to compare them. Making an XOR gate in classical computer uses number of NAND and NOR gates and could be resource intensive while in this quantum algorithm, it simply uses the CNOT gate as an XOR gate."
   ]
  }
 ],
 "metadata": {
  "kernelspec": {
   "display_name": "Python 3 (ipykernel)",
   "language": "python",
   "name": "python3"
  },
  "language_info": {
   "codemirror_mode": {
    "name": "ipython",
    "version": 3
   },
   "file_extension": ".py",
   "mimetype": "text/x-python",
   "name": "python",
   "nbconvert_exporter": "python",
   "pygments_lexer": "ipython3",
   "version": "3.11.7"
  }
 },
 "nbformat": 4,
 "nbformat_minor": 5
}
