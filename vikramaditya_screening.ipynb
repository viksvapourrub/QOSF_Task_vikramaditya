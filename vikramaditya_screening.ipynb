{
 "cells": [
  {
   "cell_type": "code",
   "execution_count": 5,
   "id": "0288520c",
   "metadata": {},
   "outputs": [],
   "source": [
    "from qiskit import QuantumCircuit, QuantumRegister, ClassicalRegister, transpile"
   ]
  },
  {
   "cell_type": "code",
   "execution_count": 6,
   "id": "3f70f3d2",
   "metadata": {},
   "outputs": [],
   "source": [
    "from qiskit.visualization import plot_histogram"
   ]
  },
  {
   "cell_type": "code",
   "execution_count": 10,
   "id": "ec8f01db-44ab-4ae3-be70-bebc3866a2ef",
   "metadata": {},
   "outputs": [],
   "source": [
    "from qiskit.providers import basic_provider"
   ]
  },
  {
   "cell_type": "code",
   "execution_count": 31,
   "id": "c374e082",
   "metadata": {},
   "outputs": [],
   "source": [
    "\n",
    "def bit_compare():\n",
    "    qr = QuantumRegister(2, \"bits\")\n",
    "    aux = QuantumRegister(2, \"aux\")\n",
    "    \n",
    "    qc = QuantumCircuit(qr, aux)\n",
    "    qc.x(qr[1])\n",
    "    qc.mcx(qr, aux[0])\n",
    "    qc.x(qr[0])\n",
    "    qc.x(qr[1])\n",
    "    qc.mcx(qr, aux[1])\n",
    "    qc.x(qr[0])\n",
    "    \n",
    "    return qc"
   ]
  },
  {
   "cell_type": "code",
   "execution_count": 32,
   "id": "01f70f05-01be-4093-b46f-67ccf81860d8",
   "metadata": {},
   "outputs": [],
   "source": [
    "## Defining the encode function to encode the given string by applying an x gate if bit is one and doing nothing if bit is zero\n",
    "def encode(bit):\n",
    "    qr = QuantumRegister(1, \"number\")\n",
    "    qc = QuantumCircuit(qr)\n",
    "    if (bit == \"1\"):\n",
    "        qc.x(qr[0])\n",
    "    return qc\n",
    "\n",
    "## We need to use this function again and again for each bit"
   ]
  },
  {
   "cell_type": "code",
   "execution_count": 50,
   "id": "e807f40d-65ad-496a-b659-87361a784940",
   "metadata": {},
   "outputs": [],
   "source": [
    "def compare_bitstring(bitstring_a, bitstring_b, exec=True):\n",
    "    bits = len(bitstring_a)\n",
    "    qra = QuantumRegister(bits, \"a\")\n",
    "    qrb = QuantumRegister(bits, \"b\")\n",
    "    qraux = QuantumRegister(2*bits, \"aux\")\n",
    "    qrint = QuantumRegister(bits-1, \"int\")\n",
    "    cr = ClassicalRegister(2)\n",
    "\n",
    "    qc = QuantumCircuit(qra, qrb, qraux, qrint, cr)\n",
    "\n",
    "    for i in range(bits):\n",
    "        qc.append(encode(bitstring_a[i]), [qra[i]])\n",
    "        qc.append(encode(bitstring_b[i]), [qrb[i]])\n",
    "        qc.append(bit_compare(), [qra[i], qrb[i], qraux[2*i], qraux[2*i+1]])\n",
    "        \n",
    "        if i < bits-1:\n",
    "            qc.x(qraux[2*i])\n",
    "            qc.x(qraux[2*i+1])\n",
    "            qc.mcx([qraux[2*i], qraux[2*i+1]], qrint[i])\n",
    "            qc.x(qraux[2*i])\n",
    "            qc.x(qraux[2*i+1])\n",
    "        \n",
    "    for i in range(0, bits-1):\n",
    "        qc.mcx([qraux[2*(-i-1)],  qrint[-i]], qraux[2*(-i)])\n",
    "        qc.mcx([qraux[2*(-i-1)+1],  qrint[-i]], qraux[2*(-i)+1])\n",
    "        \n",
    "    qc.measure(qraux[0], cr[0])\n",
    "    qc.measure(qraux[1], cr[1])\n",
    "    \n",
    "    if exec:\n",
    "        # Tell Qiskit how to simulate our circuit\n",
    "        backend = basic_provider.BasicProvider().get_backend('basic_simulator')\n",
    "\n",
    "        # Do the simulation, returning the result\n",
    "        res = transpile(qc,backend)\n",
    "        job=backend.run(res)\n",
    "        results=job.result()\n",
    "\n",
    "        # get the probability distribution\n",
    "        counts = results.get_counts()\n",
    "\n",
    "        return counts\n",
    "    else:\n",
    "        return qc"
   ]
  },
  {
   "cell_type": "code",
   "execution_count": 74,
   "id": "02587e20-255c-4bc7-a281-ee415d39be59",
   "metadata": {},
   "outputs": [
    {
     "name": "stdout",
     "output_type": "stream",
     "text": [
      "10\n"
     ]
    }
   ],
   "source": [
    "print(str(list(compare_bitstring(\"110\", \"111\"))[0]))"
   ]
  },
  {
   "cell_type": "code",
   "execution_count": 53,
   "id": "370b9830-d00d-4345-bf1e-2144f544f945",
   "metadata": {},
   "outputs": [
    {
     "data": {
      "text/plain": [
       "'100'"
      ]
     },
     "execution_count": 53,
     "metadata": {},
     "output_type": "execute_result"
    }
   ],
   "source": [
    "def to_bits(x):\n",
    "    y=bin(x)[2:]\n",
    "    return y\n",
    "to_bits(4)"
   ]
  },
  {
   "cell_type": "code",
   "execution_count": 71,
   "id": "57a7afd0-7461-441d-a4a3-6e41925b371f",
   "metadata": {},
   "outputs": [
    {
     "ename": "SyntaxError",
     "evalue": "leading zeros in decimal integer literals are not permitted; use an 0o prefix for octal integers (3138630197.py, line 5)",
     "output_type": "error",
     "traceback": [
      "\u001b[1;36m  Cell \u001b[1;32mIn[71], line 5\u001b[1;36m\u001b[0m\n\u001b[1;33m    if((list(compare_bitstring(to_bits(i), to_bits(k)).keys())[0]) == 01):\u001b[0m\n\u001b[1;37m                                                                      ^\u001b[0m\n\u001b[1;31mSyntaxError\u001b[0m\u001b[1;31m:\u001b[0m leading zeros in decimal integer literals are not permitted; use an 0o prefix for octal integers\n"
     ]
    }
   ],
   "source": [
    "def less_than_k(lst,k):\n",
    "    l=[]\n",
    "    for i in lst:\n",
    "        #k=compare_bitstring(\"010\", \"100\")\n",
    "        if((list(compare_bitstring(to_bits(i), to_bits(k)).keys())[0]) == 01):\n",
    "            l.append(i)\n",
    "    return l\n",
    "        \n",
    "less_than_k([1,2,3,4,5],6)"
   ]
  },
  {
   "cell_type": "code",
   "execution_count": null,
   "id": "66a94115-e8f0-4915-802e-05bea150b6ed",
   "metadata": {},
   "outputs": [],
   "source": []
  }
 ],
 "metadata": {
  "kernelspec": {
   "display_name": "Python 3 (ipykernel)",
   "language": "python",
   "name": "python3"
  },
  "language_info": {
   "codemirror_mode": {
    "name": "ipython",
    "version": 3
   },
   "file_extension": ".py",
   "mimetype": "text/x-python",
   "name": "python",
   "nbconvert_exporter": "python",
   "pygments_lexer": "ipython3",
   "version": "3.11.7"
  }
 },
 "nbformat": 4,
 "nbformat_minor": 5
}
